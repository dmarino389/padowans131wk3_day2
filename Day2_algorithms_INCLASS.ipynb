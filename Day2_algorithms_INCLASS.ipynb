{
 "cells": [
  {
   "cell_type": "markdown",
   "metadata": {},
   "source": [
    "# Algorithms, Binary Search & Linked Lists"
   ]
  },
  {
   "cell_type": "markdown",
   "metadata": {},
   "source": [
    "## Tasks Today:\n",
    " \n",
    "1) <b>In-Place Algorithms</b> <br>\n",
    " &nbsp;&nbsp;&nbsp;&nbsp; a) Syntax <br>\n",
    " &nbsp;&nbsp;&nbsp;&nbsp; a) Out of Place Algorithm <br>\n",
    " &nbsp;&nbsp;&nbsp;&nbsp; b) In-Class Exercise #1 <br>\n",
    "2) <b>Two Pointers</b> <br>\n",
    "3) <b>Linked Lists</b> <br>\n",
    "4) <b>Merge Sort</b> <br>\n",
    " &nbsp;&nbsp;&nbsp;&nbsp; a) Video on Algorithms <br>\n",
    " &nbsp;&nbsp;&nbsp;&nbsp; b) How it Works <br>\n",
    "5) <b>Exercises</b> <br>\n",
    " &nbsp;&nbsp;&nbsp;&nbsp; a) Exercise #1 - Reverse a List in Place Using an In-Place Algorithm <br>\n",
    " &nbsp;&nbsp;&nbsp;&nbsp; b) Exercise #2 - Find Distinct Words <br>\n",
    " &nbsp;&nbsp;&nbsp;&nbsp; c) Exercise #3 - Write a program to implement a Linear Search Algorithm. <br>"
   ]
  },
  {
   "cell_type": "markdown",
   "metadata": {},
   "source": [
    "## In-Place Algorithms"
   ]
  },
  {
   "cell_type": "markdown",
   "metadata": {},
   "source": [
    "#### Syntax"
   ]
  },
  {
   "cell_type": "code",
   "execution_count": 4,
   "metadata": {},
   "outputs": [
    {
     "name": "stdout",
     "output_type": "stream",
     "text": [
      "Before swap: (3, 4, 5, 11)\n"
     ]
    },
    {
     "ename": "TypeError",
     "evalue": "'tuple' object does not support item assignment",
     "output_type": "error",
     "traceback": [
      "\u001b[1;31m---------------------------------------------------------------------------\u001b[0m",
      "\u001b[1;31mTypeError\u001b[0m                                 Traceback (most recent call last)",
      "Cell \u001b[1;32mIn[4], line 12\u001b[0m\n\u001b[0;32m      8\u001b[0m     \u001b[38;5;28;01mreturn\u001b[39;00m \u001b[38;5;28;01mNone\u001b[39;00m\n\u001b[0;32m     10\u001b[0m \u001b[38;5;28mprint\u001b[39m(\u001b[38;5;124m'\u001b[39m\u001b[38;5;124mBefore swap:\u001b[39m\u001b[38;5;124m'\u001b[39m, my_list)\n\u001b[1;32m---> 12\u001b[0m output \u001b[38;5;241m=\u001b[39m \u001b[43mswap\u001b[49m\u001b[43m(\u001b[49m\u001b[38;5;241;43m1\u001b[39;49m\u001b[43m,\u001b[49m\u001b[38;5;241;43m3\u001b[39;49m\u001b[43m,\u001b[49m\u001b[43m \u001b[49m\u001b[43mmy_list\u001b[49m\u001b[43m)\u001b[49m\n\u001b[0;32m     14\u001b[0m \u001b[38;5;28mprint\u001b[39m(\u001b[38;5;124m'\u001b[39m\u001b[38;5;124mAfter swap:\u001b[39m\u001b[38;5;124m'\u001b[39m, my_list)\n\u001b[0;32m     15\u001b[0m \u001b[38;5;28mprint\u001b[39m(\u001b[38;5;124m'\u001b[39m\u001b[38;5;124moutput:\u001b[39m\u001b[38;5;124m'\u001b[39m,output)\n",
      "Cell \u001b[1;32mIn[4], line 6\u001b[0m, in \u001b[0;36mswap\u001b[1;34m(i1, i2, nums)\u001b[0m\n\u001b[0;32m      4\u001b[0m \u001b[38;5;28;01mdef\u001b[39;00m \u001b[38;5;21mswap\u001b[39m(i1, i2, nums):\n\u001b[0;32m      5\u001b[0m     temp \u001b[38;5;241m=\u001b[39m nums[i1]\n\u001b[1;32m----> 6\u001b[0m     \u001b[43mnums\u001b[49m\u001b[43m[\u001b[49m\u001b[43mi1\u001b[49m\u001b[43m]\u001b[49m \u001b[38;5;241m=\u001b[39m nums[i2]\n\u001b[0;32m      7\u001b[0m     nums[i2] \u001b[38;5;241m=\u001b[39m temp\n\u001b[0;32m      8\u001b[0m     \u001b[38;5;28;01mreturn\u001b[39;00m \u001b[38;5;28;01mNone\u001b[39;00m\n",
      "\u001b[1;31mTypeError\u001b[0m: 'tuple' object does not support item assignment"
     ]
    }
   ],
   "source": [
    "#sometimes known as a swap algorithm\n",
    "\n",
    "my_list = 3,4,5,11\n",
    "def swap(i1, i2, nums):\n",
    "    temp = nums[i1]\n",
    "    nums[i1] = nums[i2]\n",
    "    nums[i2] = temp\n",
    "    return None\n",
    "\n",
    "print('Before swap:', my_list)\n",
    "\n",
    "output = swap(1,3, my_list)\n",
    "\n",
    "print('After swap:', my_list)\n",
    "print('output:',output)\n",
    "    "
   ]
  },
  {
   "cell_type": "markdown",
   "metadata": {},
   "source": [
    "#### Out of Place Algorithm"
   ]
  },
  {
   "cell_type": "code",
   "execution_count": null,
   "metadata": {},
   "outputs": [],
   "source": [
    "\n"
   ]
  },
  {
   "cell_type": "markdown",
   "metadata": {},
   "source": [
    "#### In-Class Exercise #1 <br>\n",
    "<p>Write a function that takes in four arguments (list, index1, index2, index3), and swaps those three positions in the list passed in.</p>"
   ]
  },
  {
   "cell_type": "code",
   "execution_count": 3,
   "metadata": {
    "scrolled": true
   },
   "outputs": [
    {
     "name": "stdout",
     "output_type": "stream",
     "text": [
      "[10, 4, 3, 2, 8, 4, 6]\n"
     ]
    }
   ],
   "source": [
    "l_1 = [10, 4, 3, 8, 4, 2, 6]\n",
    "my_list = [3, 4, 5]\n",
    "\n",
    "def swap(i1, i2, i3, nums):\n",
    "    temp = nums[i1]\n",
    "    nums[i1] = nums[i3]\n",
    "    nums[i3] = nums[i2]\n",
    "    nums[i2] = temp\n",
    "\n",
    "# Ensure that there are at least 3 elements in my_list for swapping\n",
    "if len(my_list) >= 3:\n",
    "    for i in range(len(my_list) - 2):\n",
    "        i1, i2, i3 = my_list[i], my_list[i + 1], my_list[i + 2]\n",
    "        swap(i1, i2, i3, l_1)\n",
    "\n",
    "print(l_1)\n",
    "\n",
    "\n",
    "\n"
   ]
  },
  {
   "cell_type": "markdown",
   "metadata": {},
   "source": [
    "## Two Pointers"
   ]
  },
  {
   "cell_type": "markdown",
   "metadata": {},
   "source": [
    "#### Syntax"
   ]
  },
  {
   "cell_type": "code",
   "execution_count": 3,
   "metadata": {},
   "outputs": [
    {
     "name": "stdout",
     "output_type": "stream",
     "text": [
      "['a', 'i', 'm']\n"
     ]
    }
   ],
   "source": [
    "def two_pointer(name):\n",
    "    #creating two pointer\n",
    "    left = 0\n",
    "    right = len(name) -1\n",
    "    \n",
    "    while left < right:\n",
    "        name[left], name[right] = name[right], name[left]\n",
    "        left += 1\n",
    "        right -= 1\n",
    "\n",
    "my_name = ['m','i','a',]\n",
    "two_pointer(my_name)\n",
    "print(my_name)"
   ]
  },
  {
   "cell_type": "markdown",
   "metadata": {},
   "source": [
    "#### Video of Algorithms <br>\n",
    "<p>Watch the video about algorithms.</p>\n",
    "\n",
    "https://www.youtube.com/watch?v=Q9HjeFD62Uk\n",
    "\n",
    "https://www.youtube.com/watch?v=kPRA0W1kECg\n",
    "\n",
    "https://www.youtube.com/watch?v=ZZuD6iUe3Pc"
   ]
  },
  {
   "cell_type": "markdown",
   "metadata": {},
   "source": [
    "# Sorting Algorithms"
   ]
  },
  {
   "cell_type": "markdown",
   "metadata": {},
   "source": [
    "#### Bubble Sort\n",
    "\n",
    "Worst Case: O(n^2) Time - O(1) Space"
   ]
  },
  {
   "cell_type": "code",
   "execution_count": 16,
   "metadata": {},
   "outputs": [
    {
     "name": "stdout",
     "output_type": "stream",
     "text": [
      "198\n",
      "[1, 2, 3, 4, 5, 6, 7, 8, 9, 11, 22, 33, 44, 55, 66, 77, 88, 99, 111, 222, 333, 444, 555, 666, 777, 888, 999]\n"
     ]
    }
   ],
   "source": [
    "def swap(i1, i2, nums):\n",
    "    nums[i1], nums[i2] = nums[i2], nums[i1]\n",
    "    \n",
    "def bubble_sort(nums):\n",
    "    num_of_iterations = 0\n",
    "    for count in range(len(nums)):\n",
    "        is_sorted = True\n",
    "        for index in range(len(nums)-1-count):\n",
    "            num_of_iterations += 1\n",
    "            if nums[index] > nums[index + 1]:\n",
    "                swap(index, index +1, nums)\n",
    "                is_sorted = False\n",
    "        if is_sorted:\n",
    "            break\n",
    "            \n",
    "    print(num_of_iterations)\n",
    "my_list = [9,8,7,6,5,4,3,2,1,99,88,77,66,55,44,33,22,11,999,888,777,666,555,444,333,222,111,]\n",
    "bubble_sort(my_list)\n",
    "print(my_list)"
   ]
  },
  {
   "cell_type": "markdown",
   "metadata": {},
   "source": [
    "##### Insertion Sort\n",
    "\n",
    "Worst Case: O(n^2) time - O(1)space"
   ]
  },
  {
   "cell_type": "code",
   "execution_count": 20,
   "metadata": {},
   "outputs": [
    {
     "name": "stdout",
     "output_type": "stream",
     "text": [
      "[1, 2, 3, 4, 5, 6, 11, 22, 33, 44, 55, 66, 77, 88, 99, 111, 222, 333, 444, 555, 666, 777, 888, 999]\n"
     ]
    }
   ],
   "source": [
    "def swap(i1, i2, nums):\n",
    "    nums[i1], nums[i2] = nums[i2], nums[i1]\n",
    "    \n",
    "def insertion_sort(nums):\n",
    "    for i in range(1, len(nums)):\n",
    "        j = i\n",
    "        while j > 0 and nums[j] < nums[j-1]:\n",
    "            swap(j, j-1, nums)\n",
    "            j -= 1\n",
    "            \n",
    "            \n",
    "my_list = [6,5,4,3,2,1,99,88,77,66,55,44,33,22,11,999,888,777,666,555,444,333,222,111,]\n",
    "insertion_sort(my_list)\n",
    "print(my_list)\n",
    "            \n"
   ]
  },
  {
   "cell_type": "markdown",
   "metadata": {},
   "source": [
    "## Merge Sort"
   ]
  },
  {
   "cell_type": "markdown",
   "metadata": {},
   "source": [
    "#### How it Works"
   ]
  },
  {
   "cell_type": "code",
   "execution_count": 26,
   "metadata": {},
   "outputs": [
    {
     "name": "stdout",
     "output_type": "stream",
     "text": [
      "[1, 2, 3, 4, 5, 11, 22, 33, 44, 55, 66, 77, 88, 99, 111, 222, 333, 444, 555, 666, 777, 888, 999]\n"
     ]
    }
   ],
   "source": [
    "def merge_sort(nums):\n",
    "    # Base case: if the list has 1 or 0 elements, it's already sorted\n",
    "    if len(nums) <= 1:\n",
    "        return nums\n",
    "\n",
    "    # Divide the list into halves\n",
    "    mid = len(nums) // 2\n",
    "    lefthalf = nums[:mid]\n",
    "    righthalf = nums[mid:]\n",
    "\n",
    "    # Recursively call merge_sort to perform split as needed\n",
    "    lefthalf = merge_sort(lefthalf)\n",
    "    righthalf = merge_sort(righthalf)\n",
    "\n",
    "    # Merge the sorted halves\n",
    "    i = 0  # Left side pointer\n",
    "    j = 0  # Right side pointer\n",
    "    k = 0  # Result pointer\n",
    "    while i < len(lefthalf) and j < len(righthalf):\n",
    "        if lefthalf[i] < righthalf[j]:\n",
    "            nums[k] = lefthalf[i]\n",
    "            i += 1\n",
    "        else:\n",
    "            nums[k] = righthalf[j]\n",
    "            j += 1\n",
    "        k += 1\n",
    "\n",
    "    # Merge any leftover numbers\n",
    "    while i < len(lefthalf):\n",
    "        nums[k] = lefthalf[i]\n",
    "        i += 1\n",
    "        k += 1\n",
    "    while j < len(righthalf):\n",
    "        nums[k] = righthalf[j]\n",
    "        j += 1\n",
    "        k += 1\n",
    "\n",
    "    return nums  # Return the merged result\n",
    "\n",
    "my_list = [ 5, 4, 3, 2, 1, 99, 88, 77, 66, 55, 44, 33, 22, 11, 999, 888, 777, 666, 555, 444, 333, 222, 111]\n",
    "sorted_list = merge_sort(my_list)\n",
    "print(sorted_list)\n",
    "\n",
    "        \n",
    "        \n",
    "        \n",
    "        \n",
    "        \n",
    "        "
   ]
  },
  {
   "cell_type": "markdown",
   "metadata": {},
   "source": [
    "# Binary Search\n",
    "\n",
    "The Binary Search algorithm works by finding the number in the middle of a given array and comparing it to the target. Given that the array is sorted\n",
    "\n",
    "* The worst case run time for this algorithm is `O(log(n))`"
   ]
  },
  {
   "cell_type": "code",
   "execution_count": 28,
   "metadata": {},
   "outputs": [
    {
     "data": {
      "text/plain": [
       "'I FOUND 8 at 21 index.'"
      ]
     },
     "execution_count": 28,
     "metadata": {},
     "output_type": "execute_result"
    }
   ],
   "source": [
    "def binary_search(nums, target):\n",
    "    left = 0\n",
    "    right = len(nums)-1\n",
    "    while left <= right:\n",
    "        mid = (left + right) // 2\n",
    "        potential_match = nums[mid]\n",
    "        if target == potential_match:\n",
    "            return f'I FOUND {potential_match} at {mid} index.'\n",
    "        elif target < potential_match:\n",
    "            right = mid -1\n",
    "        else:\n",
    "            left = mid +1\n",
    "    return 'NOT FOUND'\n",
    "\n",
    "binary_search([1,1,1,1,2,2,5,5,5,5,5,5,6,6,6,6,8,8,8,8,8,8,8,8,64,51,6,8,4], 8)"
   ]
  },
  {
   "cell_type": "markdown",
   "metadata": {},
   "source": [
    "# Exercises"
   ]
  },
  {
   "cell_type": "markdown",
   "metadata": {},
   "source": [
    "### Exercise #1 <br>\n",
    "<p>Reverse the list below in-place using an in-place algorithm.<br>For extra credit: Reverse the strings at the same time.</p>"
   ]
  },
  {
   "cell_type": "code",
   "execution_count": 7,
   "metadata": {},
   "outputs": [
    {
     "name": "stdout",
     "output_type": "stream",
     "text": [
      "['.', 'ecnetnes', 'a', 'si', 'siht']\n"
     ]
    }
   ],
   "source": [
    "# I need a 2 pointer approach \n",
    "words = ['this', 'is', 'a', 'sentence', '.']\n",
    "\n",
    "# Reverse the order of words in the list\n",
    "left, right = 0, len(words) - 1\n",
    "while left < right:\n",
    "    words[left], words[right] = words[right], words[left]\n",
    "    left += 1\n",
    "    right -= 1\n",
    "\n",
    "# Reverse characters within each string\n",
    "for i in range(len(words)):\n",
    "    words[i] = words[i][::-1]\n",
    "\n",
    "# Output the reversed list\n",
    "print(words)\n",
    "\n"
   ]
  },
  {
   "cell_type": "markdown",
   "metadata": {},
   "source": [
    "### Exercise #2 <br>\n",
    "<p>Create a function that counts how many distinct words are in the string below, then outputs a dictionary with the words as the key and the value as the amount of times that word appears in the string.<br>Should output:<br>{'a': 5,<br>\n",
    " 'abstract': 1,<br>\n",
    " 'an': 3,<br>\n",
    " 'array': 2, ... etc...</p>"
   ]
  },
  {
   "cell_type": "code",
   "execution_count": 1,
   "metadata": {},
   "outputs": [
    {
     "name": "stdout",
     "output_type": "stream",
     "text": [
      "{'in': 1, 'computing': 1, 'a': 5, 'hash': 4, 'table': 2, 'map': 2, 'is': 1, 'data': 2, 'structure': 2, 'which': 2, 'implements': 1, 'an': 3, 'associative': 1, 'array': 2, 'abstract': 1, 'type': 1, 'that': 1, 'can': 2, 'keys': 1, 'to': 2, 'values': 1, 'uses': 1, 'function': 1, 'compute': 1, 'index': 1, 'into': 1, 'of': 1, 'buckets': 1, 'or': 1, 'slots': 1, 'from': 1, 'the': 1, 'desired': 1, 'value': 1, 'be': 1, 'found': 1}\n"
     ]
    }
   ],
   "source": [
    "\n",
    "\n",
    "def count_words(text):\n",
    "    # Split the text into words, removing punctuation and converting to lowercase\n",
    "    words = text.lower().split()\n",
    "    word_count = {}\n",
    "    \n",
    "    for word in words:\n",
    "        # Remove punctuation from each word\n",
    "        word = word.strip('.,?!()[]{}\":;')\n",
    "        \n",
    "        # Check if the word is already in the dictionary, if not, initialize it with 0\n",
    "        if word not in word_count:\n",
    "            word_count[word] = 0\n",
    "        \n",
    "        # Increment the count for the word\n",
    "        word_count[word] += 1\n",
    "    \n",
    "    return word_count\n",
    "\n",
    "# Input text\n",
    "a_text = 'In computing, a hash table hash map is a data structure which implements an associative array abstract data type, a structure that can map keys to values. A hash table uses a hash function to compute an index into an array of buckets or slots from which the desired value can be found'\n",
    "\n",
    "# Count words and their frequencies\n",
    "word_frequency = count_words(a_text)\n",
    "\n",
    "# Print the result as a dictionary\n",
    "print(word_frequency)\n",
    "\n"
   ]
  },
  {
   "cell_type": "markdown",
   "metadata": {},
   "source": [
    "## Exercise #3\n",
    "\n",
    "Write a program to implement a Linear Search Algorithm. Also in a comment, write the Time Complexity of the following algorithm.\n",
    "\n",
    "#### Hint: Linear Searching will require searching a list for a given number. "
   ]
  },
  {
   "cell_type": "code",
   "execution_count": 6,
   "metadata": {},
   "outputs": [
    {
     "name": "stdout",
     "output_type": "stream",
     "text": [
      "I found 21\n"
     ]
    }
   ],
   "source": [
    "def linear_search(nums, target):\n",
    "    left = 0\n",
    "    right = len(nums) - 1\n",
    "    \n",
    "    while left <= right:\n",
    "        if nums[left] == target:\n",
    "            return f'I found {target}'\n",
    "        left += 1\n",
    "    \n",
    "    return 'NOT FOUND'\n",
    "\n",
    "target = linear_search([1, 8, 5, 6, 3, 4,54,6,87,21,68,654,984,2,6,8,7,5,4,2,3,1,8,9,7,6,5], 21)\n",
    "print(target)\n",
    "\n",
    "# Time complexity: O(n), where 'n' is the number of elements in 'nums'\n"
   ]
  }
 ],
 "metadata": {
  "kernelspec": {
   "display_name": "Python 3 (ipykernel)",
   "language": "python",
   "name": "python3"
  },
  "language_info": {
   "codemirror_mode": {
    "name": "ipython",
    "version": 3
   },
   "file_extension": ".py",
   "mimetype": "text/x-python",
   "name": "python",
   "nbconvert_exporter": "python",
   "pygments_lexer": "ipython3",
   "version": "3.11.3"
  }
 },
 "nbformat": 4,
 "nbformat_minor": 2
}
